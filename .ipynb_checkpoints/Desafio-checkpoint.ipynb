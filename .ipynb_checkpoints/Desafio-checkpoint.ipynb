{
 "cells": [
  {
   "cell_type": "markdown",
   "id": "protective-hanging",
   "metadata": {},
   "source": [
    "# Desafio 1"
   ]
  },
  {
   "cell_type": "markdown",
   "id": "ff96654e-f3db-4143-8aaa-278bf35b6b54",
   "metadata": {},
   "source": [
    "#### Nome: Guilherme Oliveira Teixeira\n",
    "#### RM: 346006"
   ]
  },
  {
   "cell_type": "markdown",
   "id": "traditional-polymer",
   "metadata": {},
   "source": [
    "### Exercício 1 - Conjectura de Legendre\n",
    "\n",
    "A Conjectura de Legendre, enunciada por de Adrien-Marie Legendre, afirma que existe sempre um número primo entre $n^2 $ e $(n+1)^2$, para qualquer $n$ inteiro positivo\n",
    "\n",
    "Seu desafio será criar uma função que, dado um input (inteiro n) retorne todos os números primos entre $n^2$ e $(n+1)^2$. \n",
    "\n",
    "Exemplo:\n",
    "\n",
    "    > input: 4\n",
    "    \n",
    "    > output: [17,19,23]"
   ]
  },
  {
   "cell_type": "code",
   "execution_count": 1,
   "id": "indoor-graduation",
   "metadata": {},
   "outputs": [
    {
     "data": {
      "text/plain": [
       "False"
      ]
     },
     "execution_count": 1,
     "metadata": {},
     "output_type": "execute_result"
    }
   ],
   "source": [
    "def isprime(n):\n",
    "    \"\"\"\n",
    "    Esta função verifica se um número é ou não primo\n",
    "    \"\"\"\n",
    "    if n == 0:\n",
    "        return False\n",
    "    elif n == 1:\n",
    "        return False\n",
    "    else:\n",
    "        #caso o resto da divisão por qualquer número dentro do range de 2 até n dê 0, ele não é primo, pois números primos possuem apenas 2 divisores com resto 0(1 e ele mesmo).\n",
    "        for i in range(2, n):\n",
    "            if (n % i) == 0:\n",
    "                return False\n",
    "    return True\n",
    "\n",
    "isprime(60)"
   ]
  },
  {
   "cell_type": "markdown",
   "id": "e2926a5b-7c06-4786-aa40-69fef5a82478",
   "metadata": {},
   "source": [
    "### Conjectura de Legendre  $n^2$ e $(n+1)^2$\n",
    "\n",
    "Teste com 2: $2^2$ = 4 e $(2+1)^2$ = 9\n",
    "\n",
    "Primos = 5, 7"
   ]
  },
  {
   "cell_type": "code",
   "execution_count": 2,
   "id": "surgical-smile",
   "metadata": {},
   "outputs": [
    {
     "name": "stdout",
     "output_type": "stream",
     "text": [
      "29\n",
      "31\n"
     ]
    }
   ],
   "source": [
    "def Legendre(n):\n",
    "    \"\"\"\n",
    "    Esta função calcula a conjectura de Legendre, como descrita acima\n",
    "    \"\"\"\n",
    "    n2 = (n + 1)**2\n",
    "    n = n**2\n",
    "    \n",
    "    for a in range(n, n2+1):\n",
    "        if isprime(a):\n",
    "            print(a)\n",
    "    \n",
    "Legendre(5)"
   ]
  },
  {
   "cell_type": "markdown",
   "id": "european-enlargement",
   "metadata": {},
   "source": [
    "### Exercício 2\n",
    "\n",
    "Dada a seguinte string s, escreva uma expressão regular que retorne todos os números de telefone contidos nela."
   ]
  },
  {
   "cell_type": "code",
   "execution_count": 3,
   "id": "worth-engineering",
   "metadata": {},
   "outputs": [],
   "source": [
    "s = 'Office of Research Administration: (734) 647-6333 | 4325 North Quad \\\n",
    "Office of Budget and Financial Administration: (734) 647-8044 | 309 Maynard, Suite 205 \\\n",
    "Health Informatics Program: (734) 763-2285 | 333 Maynard, Suite 500 \\\n",
    "Office of the Dean: (734) 647-3576 | 4322 North Quad \\\n",
    "UMSI Engagement Center: (734) 763-1251 | 777 North University \\\n",
    "Faculty Adminstrative Support Staff: (734) 764-9376 | 4322 North Quad'"
   ]
  },
  {
   "cell_type": "code",
   "execution_count": 4,
   "id": "valid-blink",
   "metadata": {},
   "outputs": [
    {
     "name": "stdout",
     "output_type": "stream",
     "text": [
      "['(734) 647-6333', '(734) 647-8044', '(734) 763-2285', '(734) 647-3576', '(734) 763-1251', '(734) 764-9376']\n",
      "['(734) 647-6333', '(734) 647-8044', '(734) 763-2285', '(734) 647-3576', '(734) 763-1251', '(734) 764-9376']\n"
     ]
    }
   ],
   "source": [
    "import re\n",
    "\n",
    "telefones = re.findall('\\(.{13}', s)\n",
    "print(telefones)\n",
    "\n",
    "#or\n",
    "\n",
    "telefones = re.findall('\\: (.+?) \\|', s)\n",
    "print(telefones)"
   ]
  },
  {
   "cell_type": "markdown",
   "id": "close-effect",
   "metadata": {},
   "source": [
    "### Exercício 3\n",
    "A distância L2, ou distância Euclidiana, é definida pela seguinte fórmula: \n",
    "\n",
    "$L2 = \\sqrt{\\sum_{i=1}^n (a_i - b_i)^2}$\n",
    "\n",
    "Escreva uma função que receba dois parâmetros, a e b, e retorne a distância L2 entre eles. a e b precisam ser um numpy.array de mesmo tamanho"
   ]
  },
  {
   "cell_type": "code",
   "execution_count": 5,
   "id": "sapphire-absorption",
   "metadata": {},
   "outputs": [],
   "source": [
    "import numpy as np\n",
    "def l2_dist(a, b):\n",
    "    l2 = np.linalg.norm(a - b)\n",
    "    return l2"
   ]
  },
  {
   "cell_type": "code",
   "execution_count": 6,
   "id": "upper-somerset",
   "metadata": {},
   "outputs": [
    {
     "data": {
      "text/plain": [
       "10.344080432788601"
      ]
     },
     "execution_count": 6,
     "metadata": {},
     "output_type": "execute_result"
    }
   ],
   "source": [
    "import numpy as np\n",
    "a = np.array([11,25,38])\n",
    "b = np.array([12,34,43])\n",
    "l2_dist(a,b)"
   ]
  },
  {
   "cell_type": "markdown",
   "id": "superior-lambda",
   "metadata": {},
   "source": [
    "### Exercício 4\n",
    "Vamos utilizar o dataset breast_cancer_data.csv para fazer uma análise exploratória cujo objetivo é responder a alguns questionamentos que surgiram a respeito desse conjunto.\n",
    "\n",
    "Vamos começar lendo e entendendo nossos dados:"
   ]
  },
  {
   "cell_type": "code",
   "execution_count": 7,
   "id": "patent-cycling",
   "metadata": {},
   "outputs": [],
   "source": [
    "import pandas as pd\n",
    "import numpy as np"
   ]
  },
  {
   "cell_type": "code",
   "execution_count": 8,
   "id": "smoking-gibson",
   "metadata": {},
   "outputs": [
    {
     "data": {
      "text/html": [
       "<div>\n",
       "<style scoped>\n",
       "    .dataframe tbody tr th:only-of-type {\n",
       "        vertical-align: middle;\n",
       "    }\n",
       "\n",
       "    .dataframe tbody tr th {\n",
       "        vertical-align: top;\n",
       "    }\n",
       "\n",
       "    .dataframe thead th {\n",
       "        text-align: right;\n",
       "    }\n",
       "</style>\n",
       "<table border=\"1\" class=\"dataframe\">\n",
       "  <thead>\n",
       "    <tr style=\"text-align: right;\">\n",
       "      <th></th>\n",
       "      <th>id</th>\n",
       "      <th>clump_thickness</th>\n",
       "      <th>cell_size_uniformity</th>\n",
       "      <th>cell_shape_uniformity</th>\n",
       "      <th>marginal_adhesion</th>\n",
       "      <th>single_ep_cell_size</th>\n",
       "      <th>bare_nuclei</th>\n",
       "      <th>bland_chromatin</th>\n",
       "      <th>normal_nucleoli</th>\n",
       "      <th>mitoses</th>\n",
       "      <th>class</th>\n",
       "      <th>doctor_name</th>\n",
       "    </tr>\n",
       "  </thead>\n",
       "  <tbody>\n",
       "    <tr>\n",
       "      <th>0</th>\n",
       "      <td>1000025</td>\n",
       "      <td>5.0</td>\n",
       "      <td>1.0</td>\n",
       "      <td>1</td>\n",
       "      <td>1</td>\n",
       "      <td>2</td>\n",
       "      <td>1</td>\n",
       "      <td>3.0</td>\n",
       "      <td>1.0</td>\n",
       "      <td>1</td>\n",
       "      <td>benign</td>\n",
       "      <td>Dr. Doe</td>\n",
       "    </tr>\n",
       "    <tr>\n",
       "      <th>1</th>\n",
       "      <td>1002945</td>\n",
       "      <td>5.0</td>\n",
       "      <td>4.0</td>\n",
       "      <td>4</td>\n",
       "      <td>5</td>\n",
       "      <td>7</td>\n",
       "      <td>10</td>\n",
       "      <td>3.0</td>\n",
       "      <td>2.0</td>\n",
       "      <td>1</td>\n",
       "      <td>benign</td>\n",
       "      <td>Dr. Smith</td>\n",
       "    </tr>\n",
       "    <tr>\n",
       "      <th>2</th>\n",
       "      <td>1015425</td>\n",
       "      <td>3.0</td>\n",
       "      <td>1.0</td>\n",
       "      <td>1</td>\n",
       "      <td>1</td>\n",
       "      <td>2</td>\n",
       "      <td>2</td>\n",
       "      <td>3.0</td>\n",
       "      <td>1.0</td>\n",
       "      <td>1</td>\n",
       "      <td>benign</td>\n",
       "      <td>Dr. Lee</td>\n",
       "    </tr>\n",
       "    <tr>\n",
       "      <th>3</th>\n",
       "      <td>1016277</td>\n",
       "      <td>6.0</td>\n",
       "      <td>8.0</td>\n",
       "      <td>8</td>\n",
       "      <td>1</td>\n",
       "      <td>3</td>\n",
       "      <td>4</td>\n",
       "      <td>3.0</td>\n",
       "      <td>7.0</td>\n",
       "      <td>1</td>\n",
       "      <td>benign</td>\n",
       "      <td>Dr. Smith</td>\n",
       "    </tr>\n",
       "    <tr>\n",
       "      <th>4</th>\n",
       "      <td>1017023</td>\n",
       "      <td>4.0</td>\n",
       "      <td>1.0</td>\n",
       "      <td>1</td>\n",
       "      <td>3</td>\n",
       "      <td>2</td>\n",
       "      <td>1</td>\n",
       "      <td>3.0</td>\n",
       "      <td>1.0</td>\n",
       "      <td>1</td>\n",
       "      <td>benign</td>\n",
       "      <td>Dr. Wong</td>\n",
       "    </tr>\n",
       "  </tbody>\n",
       "</table>\n",
       "</div>"
      ],
      "text/plain": [
       "        id  clump_thickness  cell_size_uniformity  cell_shape_uniformity  \\\n",
       "0  1000025              5.0                   1.0                      1   \n",
       "1  1002945              5.0                   4.0                      4   \n",
       "2  1015425              3.0                   1.0                      1   \n",
       "3  1016277              6.0                   8.0                      8   \n",
       "4  1017023              4.0                   1.0                      1   \n",
       "\n",
       "   marginal_adhesion  single_ep_cell_size bare_nuclei  bland_chromatin  \\\n",
       "0                  1                    2           1              3.0   \n",
       "1                  5                    7          10              3.0   \n",
       "2                  1                    2           2              3.0   \n",
       "3                  1                    3           4              3.0   \n",
       "4                  3                    2           1              3.0   \n",
       "\n",
       "   normal_nucleoli  mitoses   class doctor_name  \n",
       "0              1.0        1  benign     Dr. Doe  \n",
       "1              2.0        1  benign   Dr. Smith  \n",
       "2              1.0        1  benign     Dr. Lee  \n",
       "3              7.0        1  benign   Dr. Smith  \n",
       "4              1.0        1  benign    Dr. Wong  "
      ]
     },
     "execution_count": 8,
     "metadata": {},
     "output_type": "execute_result"
    }
   ],
   "source": [
    "colunas = ['id','clump_thickness','cell_size_uniformity','cell_shape_uniformity','marginal_adhesion','single_ep_cell_size',\n",
    "          'bare_nuclei','bland_chromatin','normal_nucleoli','mitoses','class','doctor_name']\n",
    "\n",
    "data = pd.read_csv('bases/breast_cancer_data.csv',names=colunas)\n",
    "data.head()"
   ]
  },
  {
   "cell_type": "markdown",
   "id": "otherwise-submission",
   "metadata": {},
   "source": [
    "#### TODO 2.1: entendimento básico dos dados - preencha as lacunas no código a fim de obter o resultado desejado"
   ]
  },
  {
   "cell_type": "code",
   "execution_count": 9,
   "id": "processed-visiting",
   "metadata": {},
   "outputs": [
    {
     "name": "stdout",
     "output_type": "stream",
     "text": [
      "formato:  (699, 12) \n",
      "\n",
      "####################################################################################################\n",
      "<class 'pandas.core.frame.DataFrame'>\n",
      "RangeIndex: 699 entries, 0 to 698\n",
      "Data columns (total 12 columns):\n",
      " #   Column                 Non-Null Count  Dtype  \n",
      "---  ------                 --------------  -----  \n",
      " 0   id                     699 non-null    int64  \n",
      " 1   clump_thickness        698 non-null    float64\n",
      " 2   cell_size_uniformity   698 non-null    float64\n",
      " 3   cell_shape_uniformity  699 non-null    int64  \n",
      " 4   marginal_adhesion      699 non-null    int64  \n",
      " 5   single_ep_cell_size    699 non-null    int64  \n",
      " 6   bare_nuclei            697 non-null    object \n",
      " 7   bland_chromatin        695 non-null    float64\n",
      " 8   normal_nucleoli        698 non-null    float64\n",
      " 9   mitoses                699 non-null    int64  \n",
      " 10  class                  699 non-null    object \n",
      " 11  doctor_name            699 non-null    object \n",
      "dtypes: float64(4), int64(5), object(3)\n",
      "memory usage: 65.7+ KB\n",
      "tipos de dados:  None \n",
      "\n",
      "####################################################################################################\n",
      "principais estatísticas:  \n",
      "                  id  clump_thickness  cell_size_uniformity  \\\n",
      "count  6.990000e+02       698.000000            698.000000   \n",
      "mean   1.071704e+06         4.416905              3.137536   \n",
      "std    6.170957e+05         2.817673              3.052575   \n",
      "min    6.163400e+04         1.000000              1.000000   \n",
      "25%    8.706885e+05         2.000000              1.000000   \n",
      "50%    1.171710e+06         4.000000              1.000000   \n",
      "75%    1.238298e+06         6.000000              5.000000   \n",
      "max    1.345435e+07        10.000000             10.000000   \n",
      "\n",
      "       cell_shape_uniformity  marginal_adhesion  single_ep_cell_size  \\\n",
      "count             699.000000         699.000000           699.000000   \n",
      "mean                3.207439           2.793991             3.216023   \n",
      "std                 2.971913           2.843163             2.214300   \n",
      "min                 1.000000           1.000000             1.000000   \n",
      "25%                 1.000000           1.000000             2.000000   \n",
      "50%                 1.000000           1.000000             2.000000   \n",
      "75%                 5.000000           3.500000             4.000000   \n",
      "max                10.000000          10.000000            10.000000   \n",
      "\n",
      "       bland_chromatin  normal_nucleoli     mitoses  \n",
      "count       695.000000       698.000000  699.000000  \n",
      "mean          3.447482         2.868195    1.589413  \n",
      "std           2.441191         3.055647    1.715078  \n",
      "min           1.000000         1.000000    1.000000  \n",
      "25%           2.000000         1.000000    1.000000  \n",
      "50%           3.000000         1.000000    1.000000  \n",
      "75%           5.000000         4.000000    1.000000  \n",
      "max          10.000000        10.000000   10.000000   \n",
      "\n",
      "####################################################################################################\n"
     ]
    }
   ],
   "source": [
    "# quantas linhas e quantas colunas existem no dataset?\n",
    "shape = data.shape\n",
    "print('formato: ', shape, '\\n')\n",
    "print('#'*100)\n",
    "# quais os tipos de dados de cada coluna?\n",
    "typ = data.info()\n",
    "print('tipos de dados: ', typ,'\\n')\n",
    "print('#'*100)\n",
    "# quais as principais estatísticas dos dados numéricos do dataset?\n",
    "stats = data.describe()\n",
    "print('principais estatísticas: ', '\\n', stats, '\\n')\n",
    "print('#'*100)"
   ]
  },
  {
   "cell_type": "markdown",
   "id": "graphic-newsletter",
   "metadata": {},
   "source": [
    "#### TODO 2.2: obtendo informações sobre o dataset\n",
    "\n",
    "retorne uma Serie que mostre qual a classificação (maligno e benigno) que cada médico deu para cada amostra: \n"
   ]
  },
  {
   "cell_type": "code",
   "execution_count": null,
   "id": "closed-blake",
   "metadata": {},
   "outputs": [],
   "source": [
    "# Exemplo de retorno\n",
    "#  class      doctor_name\n",
    "#  benign   Dr. Doe        127\n",
    "#           Dr. Lee        121\n",
    "#           Dr. Smith      102\n",
    "#           Dr. Wong       108"
   ]
  },
  {
   "cell_type": "code",
   "execution_count": 10,
   "id": "logical-identity",
   "metadata": {},
   "outputs": [
    {
     "name": "stdout",
     "output_type": "stream",
     "text": [
      "class      doctor_name\n",
      "benign     Dr. Doe        127\n",
      "           Dr. Lee        121\n",
      "           Dr. Smith      102\n",
      "           Dr. Wong       108\n",
      "malignant  Dr. Doe         58\n",
      "           Dr. Lee         60\n",
      "           Dr. Smith       74\n",
      "           Dr. Wong        49\n",
      "Name: class, dtype: int64\n"
     ]
    }
   ],
   "source": [
    "# Resposta: \n",
    "\n",
    "\n",
    "data1 = pd.DataFrame(data)\n",
    "\n",
    "counts = data1.groupby([\"class\", \"doctor_name\"])[\"class\"].count()\n",
    "\n",
    "print(counts)"
   ]
  },
  {
   "cell_type": "markdown",
   "id": "lightweight-robert",
   "metadata": {},
   "source": [
    "#### TODO 2.3: obtendo informações sobre o dataset"
   ]
  },
  {
   "cell_type": "code",
   "execution_count": 11,
   "id": "computational-crown",
   "metadata": {},
   "outputs": [
    {
     "name": "stdout",
     "output_type": "stream",
     "text": [
      "Existem 5 variáveis correlacionadas com clump_thickness:\n",
      "['single_ep_cell_size', 'normal_nucleoli', 'cell_size_uniformity', 'cell_shape_uniformity', 'bland_chromatin']\n"
     ]
    }
   ],
   "source": [
    "# Use o método select_dtypes() para selecionar apenas colunas do tipo float64 e int64. Armazene na variável data_num\n",
    "data_num = data1.select_dtypes(include=['float64','int64'])\n",
    "#corr\n",
    "# Encontre as n variáveis que possuem um valor absoluto de correlação maior que 0.5 com a variável clump_thickness, excluindo ela mesma \n",
    "corr_data1 = data1.corr()['clump_thickness']\n",
    "data_num = [col for col, val in zip(corr_data1.index, corr_data1.values) if abs(val) >= 0.5 and col != 'clump_thickness']\n",
    "\n",
    "# retorne os valores de forma descendente\n",
    "data_num.sort(reverse=True)\n",
    "\n",
    "# sempre utilize a variável data_num para receber o resultado de suas operações\n",
    "\n",
    "print(\"Existem {} variáveis correlacionadas com clump_thickness:\\n{}\".format(len(data_num), data_num))"
   ]
  },
  {
   "cell_type": "markdown",
   "id": "encouraging-madness",
   "metadata": {},
   "source": [
    "#### TODO 2.4: obtendo informações sobre o dataset"
   ]
  },
  {
   "cell_type": "markdown",
   "id": "a7eab550-da24-4e2c-bff4-65acdb39a7d3",
   "metadata": {},
   "source": [
    "#### Add Guilherme "
   ]
  },
  {
   "cell_type": "code",
   "execution_count": 12,
   "id": "aab05037-4a74-4650-8832-4166f62dec09",
   "metadata": {},
   "outputs": [
    {
     "name": "stdout",
     "output_type": "stream",
     "text": [
      "Tamanho médio de ambos:  class\n",
      "benign       1.326039\n",
      "malignant    6.572614\n",
      "Name: cell_size_uniformity, dtype: float64 \n",
      "\n"
     ]
    }
   ],
   "source": [
    "print('Tamanho médio de ambos: ', data1.groupby('class')['cell_size_uniformity'].mean(),'\\n')\n"
   ]
  },
  {
   "cell_type": "code",
   "execution_count": 13,
   "id": "sought-greensboro",
   "metadata": {},
   "outputs": [
    {
     "name": "stdout",
     "output_type": "stream",
     "text": [
      "Tamanho médio do tipo benigno:  1.3260393873085339 \n",
      "\n",
      "Tamanho médio do tipo maligno:  6.572614107883817 \n",
      "\n",
      "Número máximo de mitoses em tumores benignos:  3\n",
      "\n",
      "Número máximo de mitoses em tumores malignos:  10\n"
     ]
    }
   ],
   "source": [
    "# qual o tamanho médio das células para cada tipo de tumor?\n",
    "print('Tamanho médio do tipo benigno: ', data1.loc[data1['class'] == 'benign', 'cell_size_uniformity'].mean(),'\\n')\n",
    "print('Tamanho médio do tipo maligno: ', data1.loc[data1['class'] == 'malignant', 'cell_size_uniformity'].mean(),'\\n')\n",
    "\n",
    "# qual o número máximo de mitoses em tumores benignos encontrados pelo Dr. Wong?\n",
    "print('Número máximo de mitoses em tumores benignos: ', data1.loc[(data1['doctor_name'] == 'Dr. Wong') & (data1['class'] == 'benign'), 'mitoses'].max())\n",
    "\n",
    "# e qual o número máximo de mitoses em tumores malignos encontrados pelo mesmo médico?\n",
    "print('\\nNúmero máximo de mitoses em tumores malignos: ',data1.loc[(data1['doctor_name'] == 'Dr. Wong') & (data1['class'] == 'malignant'), 'mitoses'].max())"
   ]
  },
  {
   "cell_type": "markdown",
   "id": "accredited-columbia",
   "metadata": {},
   "source": [
    "#### TODO 2.5: filtrando os dados"
   ]
  },
  {
   "cell_type": "code",
   "execution_count": 14,
   "id": "derived-james",
   "metadata": {},
   "outputs": [],
   "source": [
    "# Existem três pacientes (id) que aparecem mais que duas vezes no dataset. Retorne uma série ordenada de forma descendente que mostre o\n",
    "# id do paciente bem como a quantidade de vezes que ele aparece repetido no dataset\n",
    "repeated_patients = data1.id.value_counts().reset_index(name=\"id\").query(\"id > 2\")[\"index\"]\n",
    "# Elimine esses três pacientes do dataframe de modo que este contenha apenas pacientes que apareceram no máximo duas vezes\n",
    "filtered_patients = data1.drop(data1[data1['id'] == 1182404].index, inplace = True)\n",
    "filtered_patients = data1.drop(data1[data1['id'] == 1276091].index, inplace = True)\n",
    "filtered_patients = data1.drop(data1[data1['id'] == 1198641].index, inplace = True)\n",
    "#retorne o dataset completo\n",
    "filtered_data = data1.copy()\n",
    "#filtered_data"
   ]
  },
  {
   "cell_type": "code",
   "execution_count": 15,
   "id": "2c0becbd-14a2-4437-8909-1e208066f775",
   "metadata": {},
   "outputs": [
    {
     "data": {
      "text/plain": [
       "Series([], Name: index, dtype: int64)"
      ]
     },
     "execution_count": 15,
     "metadata": {},
     "output_type": "execute_result"
    }
   ],
   "source": [
    "# testing\n",
    "filtered_data.id.value_counts().reset_index(name=\"id\").query(\"id > 2\")[\"index\"]"
   ]
  }
 ],
 "metadata": {
  "kernelspec": {
   "display_name": "Python 3 (ipykernel)",
   "language": "python",
   "name": "python3"
  },
  "language_info": {
   "codemirror_mode": {
    "name": "ipython",
    "version": 3
   },
   "file_extension": ".py",
   "mimetype": "text/x-python",
   "name": "python",
   "nbconvert_exporter": "python",
   "pygments_lexer": "ipython3",
   "version": "3.9.12"
  }
 },
 "nbformat": 4,
 "nbformat_minor": 5
}
